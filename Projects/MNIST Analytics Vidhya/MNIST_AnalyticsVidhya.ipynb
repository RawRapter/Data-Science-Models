{
 "cells": [
  {
   "cell_type": "code",
   "execution_count": 1,
   "id": "362aa079",
   "metadata": {},
   "outputs": [],
   "source": [
    "#Importing relevant libraries\n",
    "import pandas as pd\n",
    "import numpy as np\n",
    "from tqdm import tqdm\n",
    "from skimage.io import imread\n",
    "from skimage.transform import resize\n",
    "import matplotlib.pyplot as plt\n",
    "%matplotlib inline\n",
    "from tensorflow.keras.models import Sequential\n",
    "from tensorflow.keras.layers import Conv2D\n",
    "from tensorflow.keras.layers import MaxPool2D\n",
    "from tensorflow.keras.layers import Flatten\n",
    "from tensorflow.keras.layers import Dropout\n",
    "from tensorflow.keras.layers import Dense"
   ]
  },
  {
   "cell_type": "code",
   "execution_count": 9,
   "id": "bd71d11a",
   "metadata": {},
   "outputs": [],
   "source": [
    "train=pd.read_csv(\"train.csv\")\n",
    "test=pd.read_csv(\"Test_fCbTej3_0j1gHmj.csv\")\n",
    "train_path=\"C:/Users/anant/Desktop/Coding Ground/Data Science/Projects/Untitled Folder/Images/train/\"\n",
    "test_path=\"C:/Users/anant/Desktop/Coding Ground/Data Science/Projects/Untitled Folder/Images/test/\""
   ]
  },
  {
   "cell_type": "code",
   "execution_count": 10,
   "id": "e8ed4158",
   "metadata": {},
   "outputs": [
    {
     "name": "stderr",
     "output_type": "stream",
     "text": [
      "100%|███████████████████████████████████████████████████████████████████████████| 49000/49000 [01:31<00:00, 534.07it/s]\n"
     ]
    },
    {
     "data": {
      "text/plain": [
       "(49000, 28, 28, 1)"
      ]
     },
     "execution_count": 10,
     "metadata": {},
     "output_type": "execute_result"
    }
   ],
   "source": [
    "# loading training images\n",
    "train_img = []\n",
    "for img_name in tqdm(train['filename']):\n",
    "    # defining the image path\n",
    "    image_path = train_path + img_name\n",
    "    # reading the image\n",
    "    img = imread(image_path)\n",
    "    # normalizing the pixel values\n",
    "    img = img/255\n",
    "    # resizing the image to (28,28,1)\n",
    "    img = resize(img, output_shape=(28,28,1), mode='constant', anti_aliasing=True)\n",
    "    # converting the type of pixel to float 32\n",
    "    img = img.astype('float32')\n",
    "    # appending the image into the list\n",
    "    train_img.append(img)\n",
    "\n",
    "# converting the list to numpy array\n",
    "train_x = np.array(train_img)\n",
    "train_x.shape"
   ]
  },
  {
   "cell_type": "code",
   "execution_count": 12,
   "id": "d385c88d",
   "metadata": {},
   "outputs": [
    {
     "name": "stderr",
     "output_type": "stream",
     "text": [
      "100%|███████████████████████████████████████████████████████████████████████████| 21000/21000 [00:42<00:00, 491.40it/s]\n"
     ]
    },
    {
     "data": {
      "text/plain": [
       "(21000, 28, 28, 1)"
      ]
     },
     "execution_count": 12,
     "metadata": {},
     "output_type": "execute_result"
    }
   ],
   "source": [
    "# loading training images\n",
    "test_img = []\n",
    "for img_name in tqdm(test['filename']):\n",
    "    # defining the image path\n",
    "    image_path = test_path + img_name\n",
    "    # reading the image\n",
    "    img = imread(image_path)\n",
    "    # normalizing the pixel values\n",
    "    img = img/255\n",
    "    # resizing the image to (28,28,1)\n",
    "    img = resize(img, output_shape=(28,28,1), mode='constant', anti_aliasing=True)\n",
    "    # converting the type of pixel to float 32\n",
    "    img = img.astype('float32')\n",
    "    # appending the image into the list\n",
    "    test_img.append(img)\n",
    "\n",
    "# converting the list to numpy array\n",
    "test_x = np.array(test_img)\n",
    "test_x.shape"
   ]
  },
  {
   "cell_type": "code",
   "execution_count": 13,
   "id": "eafbdc1a",
   "metadata": {},
   "outputs": [],
   "source": [
    "np.save('X_train.npy', train_x)\n",
    "np.save('X_test.npy', test_x)"
   ]
  },
  {
   "cell_type": "code",
   "execution_count": 14,
   "id": "000bad13",
   "metadata": {},
   "outputs": [],
   "source": [
    "x_train = np.load('X_train.npy', allow_pickle=True)\n",
    "x_test = np.load('X_test.npy', allow_pickle=True)"
   ]
  },
  {
   "cell_type": "code",
   "execution_count": 15,
   "id": "1d126aaf",
   "metadata": {},
   "outputs": [
    {
     "name": "stdout",
     "output_type": "stream",
     "text": [
      "(49000, 28, 28, 1)\n",
      "(21000, 28, 28, 1)\n"
     ]
    }
   ],
   "source": [
    "print(x_train.shape)\n",
    "print(x_test.shape)"
   ]
  },
  {
   "cell_type": "code",
   "execution_count": 16,
   "id": "d9cacacd",
   "metadata": {},
   "outputs": [
    {
     "name": "stdout",
     "output_type": "stream",
     "text": [
      "(49000,)\n",
      "(49000, 10)\n",
      "[0. 0. 0. 0. 1. 0. 0. 0. 0. 0.]\n"
     ]
    }
   ],
   "source": [
    "y_train = train['label']\n",
    "from tensorflow.keras.utils import to_categorical\n",
    "print(y_train.shape)\n",
    "y_train = to_categorical(y_train, num_classes=10)\n",
    "print(y_train.shape)\n",
    "print(y_train[0])"
   ]
  },
  {
   "cell_type": "code",
   "execution_count": 17,
   "id": "f7dbf457",
   "metadata": {},
   "outputs": [],
   "source": [
    "model=Sequential()\n",
    "#adding convolution layer\n",
    "model.add(Conv2D(10,(3,3),activation='relu',input_shape=(28,28,1)))\n",
    "#adding pooling layer\n",
    "model.add(MaxPool2D(2,2))\n",
    "#adding fully connected layer\n",
    "model.add(Flatten())\n",
    "model.add(Dense(50,activation='relu'))\n",
    "#adding output layer\n",
    "model.add(Dense(10,activation='softmax'))"
   ]
  },
  {
   "cell_type": "code",
   "execution_count": 19,
   "id": "3d6b7671",
   "metadata": {
    "scrolled": false
   },
   "outputs": [
    {
     "name": "stdout",
     "output_type": "stream",
     "text": [
      "Epoch 1/10\n",
      "1532/1532 [==============================] - 11s 7ms/step - loss: 0.3525 - accuracy: 0.8985\n",
      "Epoch 2/10\n",
      "1532/1532 [==============================] - 12s 8ms/step - loss: 0.1465 - accuracy: 0.9571\n",
      "Epoch 3/10\n",
      "1532/1532 [==============================] - 11s 7ms/step - loss: 0.0994 - accuracy: 0.9696\n",
      "Epoch 4/10\n",
      "1532/1532 [==============================] - 12s 8ms/step - loss: 0.0740 - accuracy: 0.9781\n",
      "Epoch 5/10\n",
      "1532/1532 [==============================] - 11s 7ms/step - loss: 0.0603 - accuracy: 0.9809\n",
      "Epoch 6/10\n",
      "1532/1532 [==============================] - 10s 7ms/step - loss: 0.0505 - accuracy: 0.9846\n",
      "Epoch 7/10\n",
      "1532/1532 [==============================] - 9s 6ms/step - loss: 0.0419 - accuracy: 0.9873\n",
      "Epoch 8/10\n",
      "1532/1532 [==============================] - 9s 6ms/step - loss: 0.0371 - accuracy: 0.9886\n",
      "Epoch 9/10\n",
      "1532/1532 [==============================] - 10s 7ms/step - loss: 0.0300 - accuracy: 0.9905\n",
      "Epoch 10/10\n",
      "1532/1532 [==============================] - 10s 7ms/step - loss: 0.0257 - accuracy: 0.9921\n"
     ]
    },
    {
     "data": {
      "text/plain": [
       "<keras.callbacks.History at 0x2aa7f9ec400>"
      ]
     },
     "execution_count": 19,
     "metadata": {},
     "output_type": "execute_result"
    }
   ],
   "source": [
    "#compiling the model\n",
    "model.compile(loss='categorical_crossentropy',optimizer='adam',metrics=['accuracy'])\n",
    "#fitting the model\n",
    "model.fit(x_train,y_train,epochs=10)"
   ]
  },
  {
   "cell_type": "code",
   "execution_count": 20,
   "id": "0baf6eff",
   "metadata": {},
   "outputs": [
    {
     "name": "stdout",
     "output_type": "stream",
     "text": [
      "Model: \"sequential\"\n",
      "_________________________________________________________________\n",
      " Layer (type)                Output Shape              Param #   \n",
      "=================================================================\n",
      " conv2d (Conv2D)             (None, 26, 26, 10)        100       \n",
      "                                                                 \n",
      " max_pooling2d (MaxPooling2D  (None, 13, 13, 10)       0         \n",
      " )                                                               \n",
      "                                                                 \n",
      " flatten (Flatten)           (None, 1690)              0         \n",
      "                                                                 \n",
      " dense (Dense)               (None, 50)                84550     \n",
      "                                                                 \n",
      " dense_1 (Dense)             (None, 10)                510       \n",
      "                                                                 \n",
      "=================================================================\n",
      "Total params: 85,160\n",
      "Trainable params: 85,160\n",
      "Non-trainable params: 0\n",
      "_________________________________________________________________\n"
     ]
    }
   ],
   "source": [
    "model.summary()"
   ]
  },
  {
   "cell_type": "code",
   "execution_count": 22,
   "id": "e1b02ad9",
   "metadata": {},
   "outputs": [],
   "source": [
    "submissions = pd.read_csv('sample_submission_npBPSZB.csv')"
   ]
  },
  {
   "cell_type": "code",
   "execution_count": 36,
   "id": "0368c22e",
   "metadata": {},
   "outputs": [],
   "source": [
    "#Prediction\n",
    "pred =np.asarray(model.predict(x_test))\n",
    "predictions = np.argmax(pred,axis=1)"
   ]
  },
  {
   "cell_type": "code",
   "execution_count": 37,
   "id": "7aba3b62",
   "metadata": {},
   "outputs": [
    {
     "data": {
      "text/plain": [
       "array([4, 0, 9, ..., 6, 6, 2], dtype=int64)"
      ]
     },
     "execution_count": 37,
     "metadata": {},
     "output_type": "execute_result"
    }
   ],
   "source": [
    "predictions"
   ]
  },
  {
   "cell_type": "code",
   "execution_count": 38,
   "id": "e650c502",
   "metadata": {},
   "outputs": [],
   "source": [
    "submissions['label'] = predictions"
   ]
  },
  {
   "cell_type": "code",
   "execution_count": 39,
   "id": "9610a1e7",
   "metadata": {},
   "outputs": [],
   "source": [
    "pd.DataFrame(submissions, columns=['filename','label']).to_csv('sample.csv')"
   ]
  }
 ],
 "metadata": {
  "kernelspec": {
   "display_name": "Python 3 (ipykernel)",
   "language": "python",
   "name": "python3"
  },
  "language_info": {
   "codemirror_mode": {
    "name": "ipython",
    "version": 3
   },
   "file_extension": ".py",
   "mimetype": "text/x-python",
   "name": "python",
   "nbconvert_exporter": "python",
   "pygments_lexer": "ipython3",
   "version": "3.8.12"
  }
 },
 "nbformat": 4,
 "nbformat_minor": 5
}
